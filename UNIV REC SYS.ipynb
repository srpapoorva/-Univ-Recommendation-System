{
 "cells": [
  {
   "cell_type": "code",
   "execution_count": 46,
   "metadata": {},
   "outputs": [],
   "source": [
    "import pandas as pd\n",
    "import numpy as np\n",
    "import matplotlib.pyplot as plt\n",
    "import seaborn as sns\n",
    "%matplotlib inline"
   ]
  },
  {
   "cell_type": "code",
   "execution_count": 47,
   "metadata": {},
   "outputs": [
    {
     "name": "stderr",
     "output_type": "stream",
     "text": [
      "C:\\Users\\srpap\\Anaconda3\\lib\\site-packages\\IPython\\core\\interactiveshell.py:3057: DtypeWarning: Columns (8,13,17,23) have mixed types. Specify dtype option on import or set low_memory=False.\n",
      "  interactivity=interactivity, compiler=compiler, result=result)\n"
     ]
    },
    {
     "data": {
      "text/html": [
       "<div>\n",
       "<style scoped>\n",
       "    .dataframe tbody tr th:only-of-type {\n",
       "        vertical-align: middle;\n",
       "    }\n",
       "\n",
       "    .dataframe tbody tr th {\n",
       "        vertical-align: top;\n",
       "    }\n",
       "\n",
       "    .dataframe thead th {\n",
       "        text-align: right;\n",
       "    }\n",
       "</style>\n",
       "<table border=\"1\" class=\"dataframe\">\n",
       "  <thead>\n",
       "    <tr style=\"text-align: right;\">\n",
       "      <th></th>\n",
       "      <th>userName</th>\n",
       "      <th>major</th>\n",
       "      <th>researchExp</th>\n",
       "      <th>industryExp</th>\n",
       "      <th>specialization</th>\n",
       "      <th>toeflScore</th>\n",
       "      <th>program</th>\n",
       "      <th>department</th>\n",
       "      <th>toeflEssay</th>\n",
       "      <th>internExp</th>\n",
       "      <th>...</th>\n",
       "      <th>termAndYear</th>\n",
       "      <th>confPubs</th>\n",
       "      <th>ugCollege</th>\n",
       "      <th>gmatA</th>\n",
       "      <th>cgpa</th>\n",
       "      <th>gmatQ</th>\n",
       "      <th>cgpaScale</th>\n",
       "      <th>gmatV</th>\n",
       "      <th>univName</th>\n",
       "      <th>admit</th>\n",
       "    </tr>\n",
       "  </thead>\n",
       "  <tbody>\n",
       "    <tr>\n",
       "      <th>0</th>\n",
       "      <td>Aug-13</td>\n",
       "      <td>Electronics and Communication</td>\n",
       "      <td>0</td>\n",
       "      <td>0</td>\n",
       "      <td>NaN</td>\n",
       "      <td>97.0</td>\n",
       "      <td>MS</td>\n",
       "      <td>ECE</td>\n",
       "      <td>NaN</td>\n",
       "      <td>0.0</td>\n",
       "      <td>...</td>\n",
       "      <td>Fall - 2013</td>\n",
       "      <td>0</td>\n",
       "      <td>0</td>\n",
       "      <td>NaN</td>\n",
       "      <td>79.00</td>\n",
       "      <td>NaN</td>\n",
       "      <td>100.0</td>\n",
       "      <td>NaN</td>\n",
       "      <td>University of Massachusetts Amherst</td>\n",
       "      <td>1.0</td>\n",
       "    </tr>\n",
       "    <tr>\n",
       "      <th>1</th>\n",
       "      <td>Aug-13</td>\n",
       "      <td>Electronics and Communication</td>\n",
       "      <td>0</td>\n",
       "      <td>0</td>\n",
       "      <td>NaN</td>\n",
       "      <td>97.0</td>\n",
       "      <td>MS</td>\n",
       "      <td>ECE</td>\n",
       "      <td>NaN</td>\n",
       "      <td>0.0</td>\n",
       "      <td>...</td>\n",
       "      <td>Fall - 2013</td>\n",
       "      <td>0</td>\n",
       "      <td>0</td>\n",
       "      <td>NaN</td>\n",
       "      <td>79.00</td>\n",
       "      <td>NaN</td>\n",
       "      <td>100.0</td>\n",
       "      <td>NaN</td>\n",
       "      <td>Arizona State University</td>\n",
       "      <td>0.0</td>\n",
       "    </tr>\n",
       "    <tr>\n",
       "      <th>2</th>\n",
       "      <td>ninny.rgs</td>\n",
       "      <td>Electrical Engineering</td>\n",
       "      <td>0</td>\n",
       "      <td>0</td>\n",
       "      <td>NaN</td>\n",
       "      <td>101.0</td>\n",
       "      <td>MS</td>\n",
       "      <td>Electrical Engineering</td>\n",
       "      <td>NaN</td>\n",
       "      <td>0.0</td>\n",
       "      <td>...</td>\n",
       "      <td>Fall - 2011</td>\n",
       "      <td>0</td>\n",
       "      <td>A C Patil College of Engineering</td>\n",
       "      <td>NaN</td>\n",
       "      <td>72.27</td>\n",
       "      <td>NaN</td>\n",
       "      <td>100.0</td>\n",
       "      <td>NaN</td>\n",
       "      <td>Worcester Polytechnic Institute</td>\n",
       "      <td>1.0</td>\n",
       "    </tr>\n",
       "    <tr>\n",
       "      <th>3</th>\n",
       "      <td>aashishg11</td>\n",
       "      <td>Electrical Engineering</td>\n",
       "      <td>0</td>\n",
       "      <td>0</td>\n",
       "      <td>Automation</td>\n",
       "      <td>91.0</td>\n",
       "      <td>MS</td>\n",
       "      <td>Instrumentation</td>\n",
       "      <td>NaN</td>\n",
       "      <td>0.0</td>\n",
       "      <td>...</td>\n",
       "      <td>Fall - 2013</td>\n",
       "      <td>0</td>\n",
       "      <td>A C Patil College of Engineering</td>\n",
       "      <td>NaN</td>\n",
       "      <td>56.11</td>\n",
       "      <td>NaN</td>\n",
       "      <td>100.0</td>\n",
       "      <td>NaN</td>\n",
       "      <td>Worcester Polytechnic Institute</td>\n",
       "      <td>0.0</td>\n",
       "    </tr>\n",
       "    <tr>\n",
       "      <th>4</th>\n",
       "      <td>ninny.rgs</td>\n",
       "      <td>Electrical Engineering</td>\n",
       "      <td>0</td>\n",
       "      <td>0</td>\n",
       "      <td>NaN</td>\n",
       "      <td>101.0</td>\n",
       "      <td>MS</td>\n",
       "      <td>Electrical Engineering</td>\n",
       "      <td>NaN</td>\n",
       "      <td>0.0</td>\n",
       "      <td>...</td>\n",
       "      <td>Fall - 2011</td>\n",
       "      <td>0</td>\n",
       "      <td>A C Patil College of Engineering</td>\n",
       "      <td>NaN</td>\n",
       "      <td>72.27</td>\n",
       "      <td>NaN</td>\n",
       "      <td>100.0</td>\n",
       "      <td>NaN</td>\n",
       "      <td>University of Southern California</td>\n",
       "      <td>1.0</td>\n",
       "    </tr>\n",
       "  </tbody>\n",
       "</table>\n",
       "<p>5 rows × 26 columns</p>\n",
       "</div>"
      ],
      "text/plain": [
       "     userName                          major  researchExp  industryExp  \\\n",
       "0      Aug-13  Electronics and Communication            0            0   \n",
       "1      Aug-13  Electronics and Communication            0            0   \n",
       "2   ninny.rgs         Electrical Engineering            0            0   \n",
       "3  aashishg11         Electrical Engineering            0            0   \n",
       "4   ninny.rgs         Electrical Engineering            0            0   \n",
       "\n",
       "  specialization  toeflScore program              department toeflEssay  \\\n",
       "0            NaN        97.0      MS                     ECE        NaN   \n",
       "1            NaN        97.0      MS                     ECE        NaN   \n",
       "2            NaN       101.0      MS  Electrical Engineering        NaN   \n",
       "3     Automation        91.0      MS         Instrumentation        NaN   \n",
       "4            NaN       101.0      MS  Electrical Engineering        NaN   \n",
       "\n",
       "   internExp  ...  termAndYear  confPubs                         ugCollege  \\\n",
       "0        0.0  ...  Fall - 2013         0                                 0   \n",
       "1        0.0  ...  Fall - 2013         0                                 0   \n",
       "2        0.0  ...  Fall - 2011         0  A C Patil College of Engineering   \n",
       "3        0.0  ...  Fall - 2013         0  A C Patil College of Engineering   \n",
       "4        0.0  ...  Fall - 2011         0  A C Patil College of Engineering   \n",
       "\n",
       "  gmatA   cgpa  gmatQ cgpaScale gmatV                             univName  \\\n",
       "0   NaN  79.00    NaN     100.0   NaN  University of Massachusetts Amherst   \n",
       "1   NaN  79.00    NaN     100.0   NaN             Arizona State University   \n",
       "2   NaN  72.27    NaN     100.0   NaN      Worcester Polytechnic Institute   \n",
       "3   NaN  56.11    NaN     100.0   NaN      Worcester Polytechnic Institute   \n",
       "4   NaN  72.27    NaN     100.0   NaN    University of Southern California   \n",
       "\n",
       "   admit  \n",
       "0    1.0  \n",
       "1    0.0  \n",
       "2    1.0  \n",
       "3    0.0  \n",
       "4    1.0  \n",
       "\n",
       "[5 rows x 26 columns]"
      ]
     },
     "execution_count": 47,
     "metadata": {},
     "output_type": "execute_result"
    }
   ],
   "source": [
    "df=pd.read_csv(\"allUsersFinal typo correct.csv\")\n",
    "df.head()"
   ]
  },
  {
   "cell_type": "code",
   "execution_count": 48,
   "metadata": {},
   "outputs": [
    {
     "name": "stdout",
     "output_type": "stream",
     "text": [
      "<class 'pandas.core.frame.DataFrame'>\n",
      "RangeIndex: 53644 entries, 0 to 53643\n",
      "Data columns (total 26 columns):\n",
      "userName           53644 non-null object\n",
      "major              53257 non-null object\n",
      "researchExp        53644 non-null int64\n",
      "industryExp        53644 non-null int64\n",
      "specialization     31949 non-null object\n",
      "toeflScore         49230 non-null float64\n",
      "program            53322 non-null object\n",
      "department         53643 non-null object\n",
      "toeflEssay         11874 non-null object\n",
      "internExp          53630 non-null float64\n",
      "greV               52388 non-null float64\n",
      "greQ               52424 non-null float64\n",
      "userProfileLink    53644 non-null object\n",
      "journalPubs        53322 non-null object\n",
      "greA               50786 non-null float64\n",
      "topperCgpa         53641 non-null float64\n",
      "termAndYear        53322 non-null object\n",
      "confPubs           53322 non-null object\n",
      "ugCollege          51357 non-null object\n",
      "gmatA              139 non-null float64\n",
      "cgpa               53624 non-null float64\n",
      "gmatQ              143 non-null float64\n",
      "cgpaScale          53624 non-null float64\n",
      "gmatV              134 non-null object\n",
      "univName           53644 non-null object\n",
      "admit              53624 non-null float64\n",
      "dtypes: float64(11), int64(2), object(13)\n",
      "memory usage: 10.6+ MB\n"
     ]
    }
   ],
   "source": [
    "df.info()"
   ]
  },
  {
   "cell_type": "code",
   "execution_count": 49,
   "metadata": {},
   "outputs": [
    {
     "data": {
      "text/html": [
       "<div>\n",
       "<style scoped>\n",
       "    .dataframe tbody tr th:only-of-type {\n",
       "        vertical-align: middle;\n",
       "    }\n",
       "\n",
       "    .dataframe tbody tr th {\n",
       "        vertical-align: top;\n",
       "    }\n",
       "\n",
       "    .dataframe thead th {\n",
       "        text-align: right;\n",
       "    }\n",
       "</style>\n",
       "<table border=\"1\" class=\"dataframe\">\n",
       "  <thead>\n",
       "    <tr style=\"text-align: right;\">\n",
       "      <th></th>\n",
       "      <th>researchExp</th>\n",
       "      <th>industryExp</th>\n",
       "      <th>toeflScore</th>\n",
       "      <th>internExp</th>\n",
       "      <th>greV</th>\n",
       "      <th>greQ</th>\n",
       "      <th>greA</th>\n",
       "      <th>topperCgpa</th>\n",
       "      <th>gmatA</th>\n",
       "      <th>cgpa</th>\n",
       "      <th>gmatQ</th>\n",
       "      <th>cgpaScale</th>\n",
       "      <th>admit</th>\n",
       "    </tr>\n",
       "  </thead>\n",
       "  <tbody>\n",
       "    <tr>\n",
       "      <th>count</th>\n",
       "      <td>53644.000000</td>\n",
       "      <td>53644.000000</td>\n",
       "      <td>49230.000000</td>\n",
       "      <td>53630.000000</td>\n",
       "      <td>52388.000000</td>\n",
       "      <td>52424.000000</td>\n",
       "      <td>50786.000000</td>\n",
       "      <td>53641.000000</td>\n",
       "      <td>139.000000</td>\n",
       "      <td>53624.000000</td>\n",
       "      <td>143.000000</td>\n",
       "      <td>53624.000000</td>\n",
       "      <td>53624.000000</td>\n",
       "    </tr>\n",
       "    <tr>\n",
       "      <th>mean</th>\n",
       "      <td>0.339535</td>\n",
       "      <td>4.056539</td>\n",
       "      <td>109.558826</td>\n",
       "      <td>0.454317</td>\n",
       "      <td>324.457108</td>\n",
       "      <td>422.485999</td>\n",
       "      <td>5.065241</td>\n",
       "      <td>35.754780</td>\n",
       "      <td>6.283813</td>\n",
       "      <td>39.355417</td>\n",
       "      <td>43.741259</td>\n",
       "      <td>55.281926</td>\n",
       "      <td>0.521110</td>\n",
       "    </tr>\n",
       "    <tr>\n",
       "      <th>std</th>\n",
       "      <td>2.602942</td>\n",
       "      <td>12.028282</td>\n",
       "      <td>35.851480</td>\n",
       "      <td>2.482900</td>\n",
       "      <td>214.403370</td>\n",
       "      <td>320.238652</td>\n",
       "      <td>36.843511</td>\n",
       "      <td>37.442863</td>\n",
       "      <td>11.683502</td>\n",
       "      <td>33.240783</td>\n",
       "      <td>24.907353</td>\n",
       "      <td>45.638536</td>\n",
       "      <td>0.499559</td>\n",
       "    </tr>\n",
       "    <tr>\n",
       "      <th>min</th>\n",
       "      <td>0.000000</td>\n",
       "      <td>0.000000</td>\n",
       "      <td>0.000000</td>\n",
       "      <td>0.000000</td>\n",
       "      <td>0.000000</td>\n",
       "      <td>0.000000</td>\n",
       "      <td>0.000000</td>\n",
       "      <td>0.000000</td>\n",
       "      <td>3.000000</td>\n",
       "      <td>0.000000</td>\n",
       "      <td>4.000000</td>\n",
       "      <td>0.000000</td>\n",
       "      <td>0.000000</td>\n",
       "    </tr>\n",
       "    <tr>\n",
       "      <th>25%</th>\n",
       "      <td>0.000000</td>\n",
       "      <td>0.000000</td>\n",
       "      <td>101.000000</td>\n",
       "      <td>0.000000</td>\n",
       "      <td>152.000000</td>\n",
       "      <td>162.000000</td>\n",
       "      <td>3.000000</td>\n",
       "      <td>8.100000</td>\n",
       "      <td>4.000000</td>\n",
       "      <td>8.170000</td>\n",
       "      <td>44.000000</td>\n",
       "      <td>10.000000</td>\n",
       "      <td>0.000000</td>\n",
       "    </tr>\n",
       "    <tr>\n",
       "      <th>50%</th>\n",
       "      <td>0.000000</td>\n",
       "      <td>0.000000</td>\n",
       "      <td>107.000000</td>\n",
       "      <td>0.000000</td>\n",
       "      <td>159.000000</td>\n",
       "      <td>168.000000</td>\n",
       "      <td>3.500000</td>\n",
       "      <td>9.600000</td>\n",
       "      <td>5.000000</td>\n",
       "      <td>10.000000</td>\n",
       "      <td>47.000000</td>\n",
       "      <td>100.000000</td>\n",
       "      <td>1.000000</td>\n",
       "    </tr>\n",
       "    <tr>\n",
       "      <th>75%</th>\n",
       "      <td>0.000000</td>\n",
       "      <td>0.000000</td>\n",
       "      <td>111.000000</td>\n",
       "      <td>0.000000</td>\n",
       "      <td>550.000000</td>\n",
       "      <td>780.000000</td>\n",
       "      <td>4.000000</td>\n",
       "      <td>80.000000</td>\n",
       "      <td>5.000000</td>\n",
       "      <td>71.750000</td>\n",
       "      <td>49.500000</td>\n",
       "      <td>100.000000</td>\n",
       "      <td>1.000000</td>\n",
       "    </tr>\n",
       "    <tr>\n",
       "      <th>max</th>\n",
       "      <td>53.000000</td>\n",
       "      <td>138.000000</td>\n",
       "      <td>1350.000000</td>\n",
       "      <td>96.000000</td>\n",
       "      <td>5560.000000</td>\n",
       "      <td>7990.000000</td>\n",
       "      <td>1470.000000</td>\n",
       "      <td>100.000000</td>\n",
       "      <td>102.000000</td>\n",
       "      <td>833.000000</td>\n",
       "      <td>168.000000</td>\n",
       "      <td>100.000000</td>\n",
       "      <td>1.000000</td>\n",
       "    </tr>\n",
       "  </tbody>\n",
       "</table>\n",
       "</div>"
      ],
      "text/plain": [
       "        researchExp   industryExp    toeflScore     internExp          greV  \\\n",
       "count  53644.000000  53644.000000  49230.000000  53630.000000  52388.000000   \n",
       "mean       0.339535      4.056539    109.558826      0.454317    324.457108   \n",
       "std        2.602942     12.028282     35.851480      2.482900    214.403370   \n",
       "min        0.000000      0.000000      0.000000      0.000000      0.000000   \n",
       "25%        0.000000      0.000000    101.000000      0.000000    152.000000   \n",
       "50%        0.000000      0.000000    107.000000      0.000000    159.000000   \n",
       "75%        0.000000      0.000000    111.000000      0.000000    550.000000   \n",
       "max       53.000000    138.000000   1350.000000     96.000000   5560.000000   \n",
       "\n",
       "               greQ          greA    topperCgpa       gmatA          cgpa  \\\n",
       "count  52424.000000  50786.000000  53641.000000  139.000000  53624.000000   \n",
       "mean     422.485999      5.065241     35.754780    6.283813     39.355417   \n",
       "std      320.238652     36.843511     37.442863   11.683502     33.240783   \n",
       "min        0.000000      0.000000      0.000000    3.000000      0.000000   \n",
       "25%      162.000000      3.000000      8.100000    4.000000      8.170000   \n",
       "50%      168.000000      3.500000      9.600000    5.000000     10.000000   \n",
       "75%      780.000000      4.000000     80.000000    5.000000     71.750000   \n",
       "max     7990.000000   1470.000000    100.000000  102.000000    833.000000   \n",
       "\n",
       "            gmatQ     cgpaScale         admit  \n",
       "count  143.000000  53624.000000  53624.000000  \n",
       "mean    43.741259     55.281926      0.521110  \n",
       "std     24.907353     45.638536      0.499559  \n",
       "min      4.000000      0.000000      0.000000  \n",
       "25%     44.000000     10.000000      0.000000  \n",
       "50%     47.000000    100.000000      1.000000  \n",
       "75%     49.500000    100.000000      1.000000  \n",
       "max    168.000000    100.000000      1.000000  "
      ]
     },
     "execution_count": 49,
     "metadata": {},
     "output_type": "execute_result"
    }
   ],
   "source": [
    "df.describe()"
   ]
  },
  {
   "cell_type": "code",
   "execution_count": 50,
   "metadata": {},
   "outputs": [
    {
     "data": {
      "text/plain": [
       "<matplotlib.axes._subplots.AxesSubplot at 0x129c50f3a20>"
      ]
     },
     "execution_count": 50,
     "metadata": {},
     "output_type": "execute_result"
    },
    {
     "data": {
      "image/png": "[encoded data removed]",
      "text/plain": [
       "<Figure size 864x504 with 1 Axes>"
      ]
     },
     "metadata": {
      "needs_background": "light"
     },
     "output_type": "display_data"
    }
   ],
   "source": [
    "plt.figure(figsize=(12, 7))\n",
    "sns.heatmap(df.isnull(),yticklabels=False,cbar=False,cmap='viridis')"
   ]
  },
  {
   "cell_type": "code",
   "execution_count": 51,
   "metadata": {},
   "outputs": [],
   "source": [
    "df=df.drop('gmatA',1)"
   ]
  },
  {
   "cell_type": "code",
   "execution_count": 52,
   "metadata": {},
   "outputs": [],
   "source": [
    "\n",
    "df=df.drop('gmatQ',1)\n",
    "df=df.drop('gmatV',1)\n",
    "df=df.drop('specialization',1)\n",
    "df=df.drop('toeflEssay',1)\n",
    "df=df.drop('userName',1)"
   ]
  },
  {
   "cell_type": "code",
   "execution_count": 54,
   "metadata": {},
   "outputs": [],
   "source": [
    "df=df.drop('userProfileLink',1)\n",
    "df=df.drop('termAndYear',1)\n",
    "df=df.drop('program',1)\n",
    "\n",
    "\n"
   ]
  },
  {
   "cell_type": "code",
   "execution_count": 55,
   "metadata": {},
   "outputs": [
    {
     "data": {
      "text/plain": [
       "<matplotlib.axes._subplots.AxesSubplot at 0x129c517aac8>"
      ]
     },
     "execution_count": 55,
     "metadata": {},
     "output_type": "execute_result"
    },
    {
     "data": {
      "image/png": "[encoded data removed]",
      "text/plain": [
       "<Figure size 864x504 with 1 Axes>"
      ]
     },
     "metadata": {
      "needs_background": "light"
     },
     "output_type": "display_data"
    }
   ],
   "source": [
    "plt.figure(figsize=(12, 7))\n",
    "sns.heatmap(df.isnull(),yticklabels=False,cbar=False,cmap='viridis')"
   ]
  },
  {
   "cell_type": "code",
   "execution_count": 56,
   "metadata": {},
   "outputs": [],
   "source": [
    "df=df.dropna()"
   ]
  },
  {
   "cell_type": "code",
   "execution_count": 57,
   "metadata": {},
   "outputs": [
    {
     "data": {
      "text/plain": [
       "<matplotlib.axes._subplots.AxesSubplot at 0x129c51e0780>"
      ]
     },
     "execution_count": 57,
     "metadata": {},
     "output_type": "execute_result"
    },
    {
     "data": {
      "image/png": "[encoded data removed]",
      "text/plain": [
       "<Figure size 864x504 with 1 Axes>"
      ]
     },
     "metadata": {
      "needs_background": "light"
     },
     "output_type": "display_data"
    }
   ],
   "source": [
    "plt.figure(figsize=(12, 7))\n",
    "sns.heatmap(df.isnull(),yticklabels=False,cbar=False,cmap='viridis')"
   ]
  },
  {
   "cell_type": "code",
   "execution_count": 58,
   "metadata": {},
   "outputs": [
    {
     "name": "stdout",
     "output_type": "stream",
     "text": [
      "<class 'pandas.core.frame.DataFrame'>\n",
      "Int64Index: 46221 entries, 2 to 51365\n",
      "Data columns (total 17 columns):\n",
      "major          46221 non-null object\n",
      "researchExp    46221 non-null int64\n",
      "industryExp    46221 non-null int64\n",
      "toeflScore     46221 non-null float64\n",
      "department     46221 non-null object\n",
      "internExp      46221 non-null float64\n",
      "greV           46221 non-null float64\n",
      "greQ           46221 non-null float64\n",
      "journalPubs    46221 non-null object\n",
      "greA           46221 non-null float64\n",
      "topperCgpa     46221 non-null float64\n",
      "confPubs       46221 non-null object\n",
      "ugCollege      46221 non-null object\n",
      "cgpa           46221 non-null float64\n",
      "cgpaScale      46221 non-null float64\n",
      "univName       46221 non-null object\n",
      "admit          46221 non-null float64\n",
      "dtypes: float64(9), int64(2), object(6)\n",
      "memory usage: 6.3+ MB\n"
     ]
    }
   ],
   "source": [
    "df.info()"
   ]
  },
  {
   "cell_type": "code",
   "execution_count": 59,
   "metadata": {},
   "outputs": [
    {
     "data": {
      "text/html": [
       "<div>\n",
       "<style scoped>\n",
       "    .dataframe tbody tr th:only-of-type {\n",
       "        vertical-align: middle;\n",
       "    }\n",
       "\n",
       "    .dataframe tbody tr th {\n",
       "        vertical-align: top;\n",
       "    }\n",
       "\n",
       "    .dataframe thead th {\n",
       "        text-align: right;\n",
       "    }\n",
       "</style>\n",
       "<table border=\"1\" class=\"dataframe\">\n",
       "  <thead>\n",
       "    <tr style=\"text-align: right;\">\n",
       "      <th></th>\n",
       "      <th>major</th>\n",
       "      <th>researchExp</th>\n",
       "      <th>industryExp</th>\n",
       "      <th>toeflScore</th>\n",
       "      <th>department</th>\n",
       "      <th>internExp</th>\n",
       "      <th>greV</th>\n",
       "      <th>greQ</th>\n",
       "      <th>journalPubs</th>\n",
       "      <th>greA</th>\n",
       "      <th>topperCgpa</th>\n",
       "      <th>confPubs</th>\n",
       "      <th>ugCollege</th>\n",
       "      <th>cgpa</th>\n",
       "      <th>cgpaScale</th>\n",
       "      <th>univName</th>\n",
       "      <th>admit</th>\n",
       "    </tr>\n",
       "  </thead>\n",
       "  <tbody>\n",
       "    <tr>\n",
       "      <th>2</th>\n",
       "      <td>Electrical Engineering</td>\n",
       "      <td>0</td>\n",
       "      <td>0</td>\n",
       "      <td>101.0</td>\n",
       "      <td>Electrical Engineering</td>\n",
       "      <td>0.0</td>\n",
       "      <td>430.0</td>\n",
       "      <td>740.0</td>\n",
       "      <td>0</td>\n",
       "      <td>4.5</td>\n",
       "      <td>72.27</td>\n",
       "      <td>0</td>\n",
       "      <td>A C Patil College of Engineering</td>\n",
       "      <td>72.27</td>\n",
       "      <td>100.0</td>\n",
       "      <td>Worcester Polytechnic Institute</td>\n",
       "      <td>1.0</td>\n",
       "    </tr>\n",
       "    <tr>\n",
       "      <th>3</th>\n",
       "      <td>Electrical Engineering</td>\n",
       "      <td>0</td>\n",
       "      <td>0</td>\n",
       "      <td>91.0</td>\n",
       "      <td>Instrumentation</td>\n",
       "      <td>0.0</td>\n",
       "      <td>144.0</td>\n",
       "      <td>157.0</td>\n",
       "      <td>0</td>\n",
       "      <td>3.0</td>\n",
       "      <td>73.00</td>\n",
       "      <td>0</td>\n",
       "      <td>A C Patil College of Engineering</td>\n",
       "      <td>56.11</td>\n",
       "      <td>100.0</td>\n",
       "      <td>Worcester Polytechnic Institute</td>\n",
       "      <td>0.0</td>\n",
       "    </tr>\n",
       "    <tr>\n",
       "      <th>4</th>\n",
       "      <td>Electrical Engineering</td>\n",
       "      <td>0</td>\n",
       "      <td>0</td>\n",
       "      <td>101.0</td>\n",
       "      <td>Electrical Engineering</td>\n",
       "      <td>0.0</td>\n",
       "      <td>430.0</td>\n",
       "      <td>740.0</td>\n",
       "      <td>0</td>\n",
       "      <td>4.5</td>\n",
       "      <td>72.27</td>\n",
       "      <td>0</td>\n",
       "      <td>A C Patil College of Engineering</td>\n",
       "      <td>72.27</td>\n",
       "      <td>100.0</td>\n",
       "      <td>University of Southern California</td>\n",
       "      <td>1.0</td>\n",
       "    </tr>\n",
       "    <tr>\n",
       "      <th>5</th>\n",
       "      <td>Electrical Engineering</td>\n",
       "      <td>0</td>\n",
       "      <td>0</td>\n",
       "      <td>101.0</td>\n",
       "      <td>Electrical Engineering</td>\n",
       "      <td>0.0</td>\n",
       "      <td>430.0</td>\n",
       "      <td>740.0</td>\n",
       "      <td>0</td>\n",
       "      <td>4.5</td>\n",
       "      <td>72.27</td>\n",
       "      <td>0</td>\n",
       "      <td>A C Patil College of Engineering</td>\n",
       "      <td>72.27</td>\n",
       "      <td>100.0</td>\n",
       "      <td>New Jersey Institute of Technology</td>\n",
       "      <td>1.0</td>\n",
       "    </tr>\n",
       "    <tr>\n",
       "      <th>7</th>\n",
       "      <td>Computer Science</td>\n",
       "      <td>0</td>\n",
       "      <td>7</td>\n",
       "      <td>88.0</td>\n",
       "      <td>Computer Engineering</td>\n",
       "      <td>0.0</td>\n",
       "      <td>147.0</td>\n",
       "      <td>164.0</td>\n",
       "      <td>0</td>\n",
       "      <td>2.5</td>\n",
       "      <td>86.00</td>\n",
       "      <td>0</td>\n",
       "      <td>A D Patel Institute Of Technology</td>\n",
       "      <td>62.00</td>\n",
       "      <td>100.0</td>\n",
       "      <td>University of Texas Dallas</td>\n",
       "      <td>0.0</td>\n",
       "    </tr>\n",
       "  </tbody>\n",
       "</table>\n",
       "</div>"
      ],
      "text/plain": [
       "                    major  researchExp  industryExp  toeflScore  \\\n",
       "2  Electrical Engineering            0            0       101.0   \n",
       "3  Electrical Engineering            0            0        91.0   \n",
       "4  Electrical Engineering            0            0       101.0   \n",
       "5  Electrical Engineering            0            0       101.0   \n",
       "7        Computer Science            0            7        88.0   \n",
       "\n",
       "               department  internExp   greV   greQ journalPubs  greA  \\\n",
       "2  Electrical Engineering        0.0  430.0  740.0           0   4.5   \n",
       "3         Instrumentation        0.0  144.0  157.0           0   3.0   \n",
       "4  Electrical Engineering        0.0  430.0  740.0           0   4.5   \n",
       "5  Electrical Engineering        0.0  430.0  740.0           0   4.5   \n",
       "7    Computer Engineering        0.0  147.0  164.0           0   2.5   \n",
       "\n",
       "   topperCgpa confPubs                          ugCollege   cgpa  cgpaScale  \\\n",
       "2       72.27        0   A C Patil College of Engineering  72.27      100.0   \n",
       "3       73.00        0   A C Patil College of Engineering  56.11      100.0   \n",
       "4       72.27        0   A C Patil College of Engineering  72.27      100.0   \n",
       "5       72.27        0   A C Patil College of Engineering  72.27      100.0   \n",
       "7       86.00        0  A D Patel Institute Of Technology  62.00      100.0   \n",
       "\n",
       "                             univName  admit  \n",
       "2     Worcester Polytechnic Institute    1.0  \n",
       "3     Worcester Polytechnic Institute    0.0  \n",
       "4   University of Southern California    1.0  \n",
       "5  New Jersey Institute of Technology    1.0  \n",
       "7          University of Texas Dallas    0.0  "
      ]
     },
     "execution_count": 59,
     "metadata": {},
     "output_type": "execute_result"
    }
   ],
   "source": [
    "df.head()"
   ]
  },
  {
   "cell_type": "code",
   "execution_count": 60,
   "metadata": {},
   "outputs": [],
   "source": [
    "def gpa(data,cgpa,cgscale,topcg):\n",
    "    cgpa=data[cgpa].tolist()\n",
    "    cgscale=data[cgscale].tolist()\n",
    "    topcg=data[topcg].tolist()\n",
    "    for i in range(len(cgpa)):\n",
    "        if cgscale[i]!=0:\n",
    "            cgpa[i]=(cgpa[i]*topcg[i]/cgscale[i])\n",
    "            \n",
    "        else:\n",
    "            cgpa[i]=0\n",
    "    data['cgpa']=cgpa\n",
    "    return data"
   ]
  },
  {
   "cell_type": "code",
   "execution_count": 61,
   "metadata": {},
   "outputs": [],
   "source": [
    "df= gpa(df,'cgpa','cgpaScale','topperCgpa')"
   ]
  },
  {
   "cell_type": "code",
   "execution_count": 62,
   "metadata": {},
   "outputs": [],
   "source": [
    "df=df.drop('topperCgpa',1)\n",
    "df=df.drop('cgpaScale',1)\n"
   ]
  },
  {
   "cell_type": "code",
   "execution_count": 64,
   "metadata": {},
   "outputs": [],
   "source": [
    "sex = pd.get_dummies(df['major'],drop_first=True)\n",
    "embark = pd.get_dummies(df['univName'],drop_first=True)\n",
    "leg= pd.get_dummies(df['ugCollege'],drop_first=True)\n",
    "hand= pd.get_dummies(df['department'],drop_first=True)\n"
   ]
  },
  {
   "cell_type": "code",
   "execution_count": 65,
   "metadata": {},
   "outputs": [],
   "source": [
    "df=df.drop(['major','univName','ugCollege','department'],axis=1)"
   ]
  },
  {
   "cell_type": "code",
   "execution_count": 66,
   "metadata": {},
   "outputs": [],
   "source": [
    "train = pd.concat([df,sex,embark,leg,hand],axis=1)"
   ]
  },
  {
   "cell_type": "code",
   "execution_count": 67,
   "metadata": {},
   "outputs": [
    {
     "data": {
      "text/html": [
       "<div>\n",
       "<style scoped>\n",
       "    .dataframe tbody tr th:only-of-type {\n",
       "        vertical-align: middle;\n",
       "    }\n",
       "\n",
       "    .dataframe tbody tr th {\n",
       "        vertical-align: top;\n",
       "    }\n",
       "\n",
       "    .dataframe thead th {\n",
       "        text-align: right;\n",
       "    }\n",
       "</style>\n",
       "<table border=\"1\" class=\"dataframe\">\n",
       "  <thead>\n",
       "    <tr style=\"text-align: right;\">\n",
       "      <th></th>\n",
       "      <th>researchExp</th>\n",
       "      <th>industryExp</th>\n",
       "      <th>toeflScore</th>\n",
       "      <th>internExp</th>\n",
       "      <th>greV</th>\n",
       "      <th>greQ</th>\n",
       "      <th>journalPubs</th>\n",
       "      <th>greA</th>\n",
       "      <th>confPubs</th>\n",
       "      <th>cgpa</th>\n",
       "      <th>...</th>\n",
       "      <th>production Enginerring</th>\n",
       "      <th>production engineering</th>\n",
       "      <th>school of civi engineering</th>\n",
       "      <th>telecom</th>\n",
       "      <th>telecomm</th>\n",
       "      <th>telecommunication</th>\n",
       "      <th>telecommunication engineering</th>\n",
       "      <th>telecommunications</th>\n",
       "      <th>textile</th>\n",
       "      <th>uiet</th>\n",
       "    </tr>\n",
       "  </thead>\n",
       "  <tbody>\n",
       "    <tr>\n",
       "      <th>2</th>\n",
       "      <td>0</td>\n",
       "      <td>0</td>\n",
       "      <td>101.0</td>\n",
       "      <td>0.0</td>\n",
       "      <td>430.0</td>\n",
       "      <td>740.0</td>\n",
       "      <td>0</td>\n",
       "      <td>4.5</td>\n",
       "      <td>0</td>\n",
       "      <td>52.229529</td>\n",
       "      <td>...</td>\n",
       "      <td>0</td>\n",
       "      <td>0</td>\n",
       "      <td>0</td>\n",
       "      <td>0</td>\n",
       "      <td>0</td>\n",
       "      <td>0</td>\n",
       "      <td>0</td>\n",
       "      <td>0</td>\n",
       "      <td>0</td>\n",
       "      <td>0</td>\n",
       "    </tr>\n",
       "    <tr>\n",
       "      <th>3</th>\n",
       "      <td>0</td>\n",
       "      <td>0</td>\n",
       "      <td>91.0</td>\n",
       "      <td>0.0</td>\n",
       "      <td>144.0</td>\n",
       "      <td>157.0</td>\n",
       "      <td>0</td>\n",
       "      <td>3.0</td>\n",
       "      <td>0</td>\n",
       "      <td>40.960300</td>\n",
       "      <td>...</td>\n",
       "      <td>0</td>\n",
       "      <td>0</td>\n",
       "      <td>0</td>\n",
       "      <td>0</td>\n",
       "      <td>0</td>\n",
       "      <td>0</td>\n",
       "      <td>0</td>\n",
       "      <td>0</td>\n",
       "      <td>0</td>\n",
       "      <td>0</td>\n",
       "    </tr>\n",
       "    <tr>\n",
       "      <th>4</th>\n",
       "      <td>0</td>\n",
       "      <td>0</td>\n",
       "      <td>101.0</td>\n",
       "      <td>0.0</td>\n",
       "      <td>430.0</td>\n",
       "      <td>740.0</td>\n",
       "      <td>0</td>\n",
       "      <td>4.5</td>\n",
       "      <td>0</td>\n",
       "      <td>52.229529</td>\n",
       "      <td>...</td>\n",
       "      <td>0</td>\n",
       "      <td>0</td>\n",
       "      <td>0</td>\n",
       "      <td>0</td>\n",
       "      <td>0</td>\n",
       "      <td>0</td>\n",
       "      <td>0</td>\n",
       "      <td>0</td>\n",
       "      <td>0</td>\n",
       "      <td>0</td>\n",
       "    </tr>\n",
       "    <tr>\n",
       "      <th>5</th>\n",
       "      <td>0</td>\n",
       "      <td>0</td>\n",
       "      <td>101.0</td>\n",
       "      <td>0.0</td>\n",
       "      <td>430.0</td>\n",
       "      <td>740.0</td>\n",
       "      <td>0</td>\n",
       "      <td>4.5</td>\n",
       "      <td>0</td>\n",
       "      <td>52.229529</td>\n",
       "      <td>...</td>\n",
       "      <td>0</td>\n",
       "      <td>0</td>\n",
       "      <td>0</td>\n",
       "      <td>0</td>\n",
       "      <td>0</td>\n",
       "      <td>0</td>\n",
       "      <td>0</td>\n",
       "      <td>0</td>\n",
       "      <td>0</td>\n",
       "      <td>0</td>\n",
       "    </tr>\n",
       "    <tr>\n",
       "      <th>7</th>\n",
       "      <td>0</td>\n",
       "      <td>7</td>\n",
       "      <td>88.0</td>\n",
       "      <td>0.0</td>\n",
       "      <td>147.0</td>\n",
       "      <td>164.0</td>\n",
       "      <td>0</td>\n",
       "      <td>2.5</td>\n",
       "      <td>0</td>\n",
       "      <td>53.320000</td>\n",
       "      <td>...</td>\n",
       "      <td>0</td>\n",
       "      <td>0</td>\n",
       "      <td>0</td>\n",
       "      <td>0</td>\n",
       "      <td>0</td>\n",
       "      <td>0</td>\n",
       "      <td>0</td>\n",
       "      <td>0</td>\n",
       "      <td>0</td>\n",
       "      <td>0</td>\n",
       "    </tr>\n",
       "  </tbody>\n",
       "</table>\n",
       "<p>5 rows × 3154 columns</p>\n",
       "</div>"
      ],
      "text/plain": [
       "   researchExp  industryExp  toeflScore  internExp   greV   greQ journalPubs  \\\n",
       "2            0            0       101.0        0.0  430.0  740.0           0   \n",
       "3            0            0        91.0        0.0  144.0  157.0           0   \n",
       "4            0            0       101.0        0.0  430.0  740.0           0   \n",
       "5            0            0       101.0        0.0  430.0  740.0           0   \n",
       "7            0            7        88.0        0.0  147.0  164.0           0   \n",
       "\n",
       "   greA confPubs       cgpa  ...  production Enginerring  \\\n",
       "2   4.5        0  52.229529  ...                       0   \n",
       "3   3.0        0  40.960300  ...                       0   \n",
       "4   4.5        0  52.229529  ...                       0   \n",
       "5   4.5        0  52.229529  ...                       0   \n",
       "7   2.5        0  53.320000  ...                       0   \n",
       "\n",
       "   production engineering  school of civi engineering  telecom  telecomm  \\\n",
       "2                       0                           0        0         0   \n",
       "3                       0                           0        0         0   \n",
       "4                       0                           0        0         0   \n",
       "5                       0                           0        0         0   \n",
       "7                       0                           0        0         0   \n",
       "\n",
       "   telecommunication  telecommunication engineering  telecommunications  \\\n",
       "2                  0                              0                   0   \n",
       "3                  0                              0                   0   \n",
       "4                  0                              0                   0   \n",
       "5                  0                              0                   0   \n",
       "7                  0                              0                   0   \n",
       "\n",
       "   textile  uiet  \n",
       "2        0     0  \n",
       "3        0     0  \n",
       "4        0     0  \n",
       "5        0     0  \n",
       "7        0     0  \n",
       "\n",
       "[5 rows x 3154 columns]"
      ]
     },
     "execution_count": 67,
     "metadata": {},
     "output_type": "execute_result"
    }
   ],
   "source": [
    "train.head()"
   ]
  },
  {
   "cell_type": "code",
   "execution_count": 68,
   "metadata": {},
   "outputs": [],
   "source": [
    "from sklearn.model_selection import train_test_split"
   ]
  },
  {
   "cell_type": "code",
   "execution_count": 69,
   "metadata": {},
   "outputs": [],
   "source": [
    "X_train, X_test, y_train, y_test = train_test_split(df.drop('admit',axis=1), \n",
    "                                                    df['admit'], test_size=0.30, \n",
    "                                                    random_state=101)"
   ]
  },
  {
   "cell_type": "code",
   "execution_count": 70,
   "metadata": {},
   "outputs": [],
   "source": [
    "from sklearn.linear_model import LogisticRegression"
   ]
  },
  {
   "cell_type": "code",
   "execution_count": 71,
   "metadata": {},
   "outputs": [
    {
     "name": "stderr",
     "output_type": "stream",
     "text": [
      "C:\\Users\\srpap\\AppData\\Roaming\\Python\\Python37\\site-packages\\sklearn\\linear_model\\_logistic.py:940: ConvergenceWarning: lbfgs failed to converge (status=1):\n",
      "STOP: TOTAL NO. of ITERATIONS REACHED LIMIT.\n",
      "\n",
      "Increase the number of iterations (max_iter) or scale the data as shown in:\n",
      "    https://scikit-learn.org/stable/modules/preprocessing.html\n",
      "Please also refer to the documentation for alternative solver options:\n",
      "    https://scikit-learn.org/stable/modules/linear_model.html#logistic-regression\n",
      "  extra_warning_msg=_LOGISTIC_SOLVER_CONVERGENCE_MSG)\n"
     ]
    },
    {
     "data": {
      "text/plain": [
       "LogisticRegression(C=1.0, class_weight=None, dual=False, fit_intercept=True,\n",
       "                   intercept_scaling=1, l1_ratio=None, max_iter=100,\n",
       "                   multi_class='auto', n_jobs=None, penalty='l2',\n",
       "                   random_state=None, solver='lbfgs', tol=0.0001, verbose=0,\n",
       "                   warm_start=False)"
      ]
     },
     "execution_count": 71,
     "metadata": {},
     "output_type": "execute_result"
    }
   ],
   "source": [
    "logmodel = LogisticRegression()\n",
    "logmodel.fit(X_train,y_train)"
   ]
  },
  {
   "cell_type": "code",
   "execution_count": 72,
   "metadata": {},
   "outputs": [],
   "source": [
    "predictions = logmodel.predict(X_test)"
   ]
  },
  {
   "cell_type": "code",
   "execution_count": 73,
   "metadata": {},
   "outputs": [],
   "source": [
    "from sklearn.metrics import classification_report"
   ]
  },
  {
   "cell_type": "code",
   "execution_count": 74,
   "metadata": {},
   "outputs": [
    {
     "name": "stdout",
     "output_type": "stream",
     "text": [
      "              precision    recall  f1-score   support\n",
      "\n",
      "         0.0       0.56      0.17      0.26      6829\n",
      "         1.0       0.52      0.87      0.65      7038\n",
      "\n",
      "    accuracy                           0.53     13867\n",
      "   macro avg       0.54      0.52      0.46     13867\n",
      "weighted avg       0.54      0.53      0.46     13867\n",
      "\n"
     ]
    }
   ],
   "source": [
    "print(classification_report(y_test,predictions))"
   ]
  },
  {
   "cell_type": "code",
   "execution_count": 75,
   "metadata": {},
   "outputs": [],
   "source": [
    "from sklearn.neighbors import KNeighborsClassifier"
   ]
  },
  {
   "cell_type": "code",
   "execution_count": 99,
   "metadata": {},
   "outputs": [],
   "source": [
    "knn = KNeighborsClassifier(n_neighbors=1)"
   ]
  },
  {
   "cell_type": "code",
   "execution_count": 100,
   "metadata": {},
   "outputs": [
    {
     "data": {
      "text/plain": [
       "KNeighborsClassifier(algorithm='auto', leaf_size=30, metric='minkowski',\n",
       "                     metric_params=None, n_jobs=None, n_neighbors=1, p=2,\n",
       "                     weights='uniform')"
      ]
     },
     "execution_count": 100,
     "metadata": {},
     "output_type": "execute_result"
    }
   ],
   "source": [
    "knn.fit(X_train,y_train)"
   ]
  },
  {
   "cell_type": "code",
   "execution_count": 101,
   "metadata": {},
   "outputs": [],
   "source": [
    "pred = knn.predict(X_test)"
   ]
  },
  {
   "cell_type": "code",
   "execution_count": 102,
   "metadata": {},
   "outputs": [],
   "source": [
    "from sklearn.metrics import classification_report,confusion_matrix"
   ]
  },
  {
   "cell_type": "code",
   "execution_count": 103,
   "metadata": {},
   "outputs": [
    {
     "name": "stdout",
     "output_type": "stream",
     "text": [
      "              precision    recall  f1-score   support\n",
      "\n",
      "         0.0       0.54      0.55      0.54      6829\n",
      "         1.0       0.55      0.54      0.55      7038\n",
      "\n",
      "    accuracy                           0.54     13867\n",
      "   macro avg       0.54      0.54      0.54     13867\n",
      "weighted avg       0.54      0.54      0.54     13867\n",
      "\n"
     ]
    }
   ],
   "source": [
    "print(classification_report(y_test,pred))"
   ]
  },
  {
   "cell_type": "code",
   "execution_count": 81,
   "metadata": {},
   "outputs": [
    {
     "data": {
      "text/plain": [
       "RandomForestClassifier(bootstrap=True, ccp_alpha=0.0, class_weight=None,\n",
       "                       criterion='gini', max_depth=None, max_features='auto',\n",
       "                       max_leaf_nodes=None, max_samples=None,\n",
       "                       min_impurity_decrease=0.0, min_impurity_split=None,\n",
       "                       min_samples_leaf=1, min_samples_split=2,\n",
       "                       min_weight_fraction_leaf=0.0, n_estimators=100,\n",
       "                       n_jobs=None, oob_score=False, random_state=None,\n",
       "                       verbose=0, warm_start=False)"
      ]
     },
     "execution_count": 81,
     "metadata": {},
     "output_type": "execute_result"
    }
   ],
   "source": [
    "from sklearn.ensemble import RandomForestClassifier\n",
    "rfc = RandomForestClassifier(n_estimators=100)\n",
    "rfc.fit(X_train, y_train)"
   ]
  },
  {
   "cell_type": "code",
   "execution_count": 82,
   "metadata": {},
   "outputs": [],
   "source": [
    "rfc_pred = rfc.predict(X_test)"
   ]
  },
  {
   "cell_type": "code",
   "execution_count": 83,
   "metadata": {},
   "outputs": [
    {
     "name": "stdout",
     "output_type": "stream",
     "text": [
      "              precision    recall  f1-score   support\n",
      "\n",
      "         0.0       0.56      0.58      0.57      6829\n",
      "         1.0       0.58      0.55      0.56      7038\n",
      "\n",
      "    accuracy                           0.57     13867\n",
      "   macro avg       0.57      0.57      0.57     13867\n",
      "weighted avg       0.57      0.57      0.57     13867\n",
      "\n"
     ]
    }
   ],
   "source": [
    "print(classification_report(y_test,rfc_pred))"
   ]
  },
  {
   "cell_type": "code",
   "execution_count": 42,
   "metadata": {},
   "outputs": [
    {
     "data": {
      "text/plain": [
       "SVC(C=1.0, break_ties=False, cache_size=200, class_weight=None, coef0=0.0,\n",
       "    decision_function_shape='ovr', degree=3, gamma='scale', kernel='rbf',\n",
       "    max_iter=-1, probability=False, random_state=None, shrinking=True,\n",
       "    tol=0.001, verbose=False)"
      ]
     },
     "execution_count": 42,
     "metadata": {},
     "output_type": "execute_result"
    }
   ],
   "source": [
    "from sklearn.svm import SVC\n",
    "model = SVC()\n",
    "model.fit(X_train,y_train)"
   ]
  },
  {
   "cell_type": "code",
   "execution_count": 43,
   "metadata": {},
   "outputs": [],
   "source": [
    "predictions = model.predict(X_test)"
   ]
  },
  {
   "cell_type": "code",
   "execution_count": 44,
   "metadata": {},
   "outputs": [
    {
     "name": "stdout",
     "output_type": "stream",
     "text": [
      "              precision    recall  f1-score   support\n",
      "\n",
      "         0.0       0.51      0.57      0.54      6829\n",
      "         1.0       0.53      0.47      0.50      7038\n",
      "\n",
      "    accuracy                           0.52     13867\n",
      "   macro avg       0.52      0.52      0.52     13867\n",
      "weighted avg       0.52      0.52      0.52     13867\n",
      "\n"
     ]
    }
   ],
   "source": [
    "print(classification_report(y_test,predictions))"
   ]
  },
  {
   "cell_type": "code",
   "execution_count": null,
   "metadata": {},
   "outputs": [],
   "source": []
  }
 ],
 "metadata": {
  "kernelspec": {
   "display_name": "Python 3",
   "language": "python",
   "name": "python3"
  },
  "language_info": {
   "codemirror_mode": {
    "name": "ipython",
    "version": 3
   },
   "file_extension": ".py",
   "mimetype": "text/x-python",
   "name": "python",
   "nbconvert_exporter": "python",
   "pygments_lexer": "ipython3",
   "version": "3.7.3"
  }
 },
 "nbformat": 4,
 "nbformat_minor": 2
}
